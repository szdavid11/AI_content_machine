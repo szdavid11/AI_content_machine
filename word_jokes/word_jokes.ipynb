{
 "cells": [
  {
   "cell_type": "code",
   "execution_count": 5,
   "id": "60e09403",
   "metadata": {},
   "outputs": [],
   "source": [
    "import pandas as pd\n",
    "import random\n",
    "import numpy as np"
   ]
  },
  {
   "cell_type": "code",
   "execution_count": null,
   "id": "4821dc54",
   "metadata": {},
   "outputs": [],
   "source": []
  },
  {
   "cell_type": "code",
   "execution_count": 6,
   "id": "3f4c7114",
   "metadata": {},
   "outputs": [],
   "source": [
    "with open('stopwords-hu.txt', 'r', encoding='utf-8') as file:\n",
    "    # Read all lines and strip whitespace, filter out empty lines\n",
    "    stopwords = [line.strip() for line in file if line.strip()]"
   ]
  },
  {
   "cell_type": "code",
   "execution_count": 7,
   "id": "a936c286",
   "metadata": {},
   "outputs": [],
   "source": [
    "hungarian_multigraph_letters = ['cs', 'dz', 'dzs', 'gy', 'ly', 'ny', 'sz', 'ty', 'zs']"
   ]
  },
  {
   "cell_type": "code",
   "execution_count": 8,
   "id": "fa227a15",
   "metadata": {},
   "outputs": [],
   "source": [
    "def get_corpus():\n",
    "    df = pd.read_csv('words_hu.csv', on_bad_lines='skip', dtype=str)\n",
    "\n",
    "    prefix_pattern = '^(meg|át|fel|el|be|ki|elő|le|vissza|oda|ide|túl|körül|kör|felül|alul|kívül|belül|hátul|elől|hátra|előre|össze|szét|újra|felre|alá|oldal)'\n",
    "    df = df[\n",
    "        df['szavak'].notna() &\n",
    "        (df['szavak'].str.contains(prefix_pattern, regex=True, na=False) == False)\n",
    "    ]\n",
    "\n",
    "    # keep only A–Z + a–z + Hungarian letters\n",
    "    letters_only = r'^[A-Za-zÁÉÍÓÖŐÚÜŰáéíóöőúüű]+$'\n",
    "    df = df[df['szavak'].str.contains(letters_only, regex=True, na=False)]\n",
    "\n",
    "    df['szavak'] = df['szavak'].str.lower()\n",
    "\n",
    "    # Drop stopwords\n",
    "    df = df[~df['szavak'].isin(stopwords)]\n",
    "\n",
    "    # Drop 1 letters\n",
    "    df = df[~df['szavak'].isin(hungarian_multigraph_letters)]\n",
    "\n",
    "    df = df.drop_duplicates(subset=['szavak'])\n",
    "    df = df[df['szavak'].str.len() > 1]\n",
    "\n",
    "    CORPUS = df['szavak'].values\n",
    "    random.shuffle(CORPUS)\n",
    "    return CORPUS\n"
   ]
  },
  {
   "cell_type": "code",
   "execution_count": 9,
   "id": "73edc163",
   "metadata": {},
   "outputs": [
    {
     "name": "stderr",
     "output_type": "stream",
     "text": [
      "/var/folders/59/v5dbhk2s3xx2rh5prvb8hs7r0000gn/T/ipykernel_32175/3944634639.py:7: UserWarning: This pattern is interpreted as a regular expression, and has match groups. To actually get the groups, use str.extract.\n",
      "  (df['szavak'].str.contains(prefix_pattern, regex=True, na=False) == False)\n"
     ]
    }
   ],
   "source": [
    "corpus = get_corpus()"
   ]
  },
  {
   "cell_type": "code",
   "execution_count": 10,
   "id": "6a31a02c",
   "metadata": {},
   "outputs": [
    {
     "data": {
      "text/plain": [
       "111769"
      ]
     },
     "execution_count": 10,
     "metadata": {},
     "output_type": "execute_result"
    }
   ],
   "source": [
    "len(corpus)"
   ]
  },
  {
   "cell_type": "code",
   "execution_count": 11,
   "id": "a2182c7a",
   "metadata": {},
   "outputs": [
    {
     "data": {
      "text/plain": [
       "<Axes: ylabel='count'>"
      ]
     },
     "execution_count": 11,
     "metadata": {},
     "output_type": "execute_result"
    },
    {
     "data": {
      "image/png": "[encoded data removed]",
      "text/plain": [
       "<Figure size 640x480 with 1 Axes>"
      ]
     },
     "metadata": {},
     "output_type": "display_data"
    }
   ],
   "source": [
    "import seaborn as sns\n",
    "sns.barplot(pd.Series(corpus).str.len().value_counts())"
   ]
  },
  {
   "cell_type": "code",
   "execution_count": 12,
   "id": "397ca31a",
   "metadata": {},
   "outputs": [],
   "source": [
    "def iter_splits_exact_parts(text: str, num_parts: int, min_part_len: int = 2):\n",
    "    text_len = len(text)\n",
    "    if num_parts <= 0 or text_len < num_parts * min_part_len:\n",
    "        return \n",
    "    def search(start_index: int, parts_left: int, current_split: list[str]):\n",
    "        if parts_left == 1:\n",
    "            if text_len - start_index >= min_part_len:\n",
    "                yield current_split + [text[start_index:]]\n",
    "            return\n",
    "        max_next_len = text_len - start_index - min_part_len * (parts_left - 1)\n",
    "        for next_len in range(min_part_len, max_next_len + 1):\n",
    "            yield from search(\n",
    "                start_index + next_len,\n",
    "                parts_left - 1,\n",
    "                current_split + [text[start_index:start_index + next_len]],\n",
    "            )\n",
    "    yield from search(0, num_parts, [])\n",
    "\n",
    "def all_splits_exact_parts(text: str, num_parts: int = 3, min_part_len: int = 2) -> list[list[str]]:\n",
    "    return list(iter_splits_exact_parts(text, num_parts, min_part_len))\n"
   ]
  },
  {
   "cell_type": "code",
   "execution_count": 32,
   "id": "80a9f6cc",
   "metadata": {},
   "outputs": [],
   "source": [
    "def create_all_combinations(df, num_parts = 3):\n",
    "    df['chunks'] = df.corpus.apply(lambda x: all_splits_exact_parts(x, num_parts=num_parts))\n",
    "    df_exp = df.explode('chunks').dropna(axis=0).reset_index(drop=True)\n",
    "\n",
    "    cols = [f'chunk{x+1}' for x in range(num_parts)]\n",
    "    df_exp[cols] = np.stack(df_exp['chunks'].to_numpy())\n",
    "\n",
    "    return df_exp\n",
    "\n",
    "\n",
    "def select_valid_elements(df, df_exp, num_parts, filter=True):\n",
    "    msk = df_exp.chunk1.isin(df['corpus'])\n",
    "    for i in range(2, num_parts+1):\n",
    "        msk = msk & df_exp[f'chunk{i}'].isin(df['corpus'])\n",
    "\n",
    "    if filter:\n",
    "        for i in range(1, num_parts + 1):\n",
    "            for j in range(i + 1, num_parts + 1):\n",
    "                ab = df_exp[f'chunk{i}'] + df_exp[f'chunk{j}']\n",
    "                ba = df_exp[f'chunk{j}'] + df_exp[f'chunk{i}']\n",
    "                msk &= ~ab.isin(corpus) & ~ba.isin(corpus)\n",
    "    \n",
    "    df_valid = df_exp[msk].drop(columns=['chunks'])\n",
    "    df_valid = df_valid.loc[\n",
    "        df_valid[[f'chunk{i}' for i in range(1, num_parts+1)]]\n",
    "        .apply(lambda row: min(len(x) for x in row), axis=1)\n",
    "        .sort_values(ascending=False).index\n",
    "    ]\n",
    "\n",
    "    return df_valid\n"
   ]
  },
  {
   "cell_type": "code",
   "execution_count": 33,
   "id": "5c455d21",
   "metadata": {},
   "outputs": [],
   "source": [
    "df = pd.DataFrame(corpus, columns=['corpus'])"
   ]
  },
  {
   "cell_type": "code",
   "execution_count": 34,
   "id": "dca2c04c",
   "metadata": {},
   "outputs": [
    {
     "data": {
      "text/html": [
       "<div>\n",
       "<style scoped>\n",
       "    .dataframe tbody tr th:only-of-type {\n",
       "        vertical-align: middle;\n",
       "    }\n",
       "\n",
       "    .dataframe tbody tr th {\n",
       "        vertical-align: top;\n",
       "    }\n",
       "\n",
       "    .dataframe thead th {\n",
       "        text-align: right;\n",
       "    }\n",
       "</style>\n",
       "<table border=\"1\" class=\"dataframe\">\n",
       "  <thead>\n",
       "    <tr style=\"text-align: right;\">\n",
       "      <th></th>\n",
       "      <th>corpus</th>\n",
       "      <th>chunk1</th>\n",
       "      <th>chunk2</th>\n",
       "      <th>chunk3</th>\n",
       "      <th>chunk4</th>\n",
       "      <th>chunk5</th>\n",
       "    </tr>\n",
       "  </thead>\n",
       "  <tbody>\n",
       "    <tr>\n",
       "      <th>1853529</th>\n",
       "      <td>ostromlöveganyag</td>\n",
       "      <td>ostrom</td>\n",
       "      <td>löveg</td>\n",
       "      <td>anyag</td>\n",
       "      <td>NaN</td>\n",
       "      <td>NaN</td>\n",
       "    </tr>\n",
       "    <tr>\n",
       "      <th>11817</th>\n",
       "      <td>élelmiszerellátás</td>\n",
       "      <td>élelmi</td>\n",
       "      <td>szerel</td>\n",
       "      <td>látás</td>\n",
       "      <td>NaN</td>\n",
       "      <td>NaN</td>\n",
       "    </tr>\n",
       "    <tr>\n",
       "      <th>1128155</th>\n",
       "      <td>szentjánosbogár</td>\n",
       "      <td>szent</td>\n",
       "      <td>jános</td>\n",
       "      <td>bogár</td>\n",
       "      <td>NaN</td>\n",
       "      <td>NaN</td>\n",
       "    </tr>\n",
       "    <tr>\n",
       "      <th>1670080</th>\n",
       "      <td>kulcshoronyvezeték</td>\n",
       "      <td>kulcs</td>\n",
       "      <td>horony</td>\n",
       "      <td>vezeték</td>\n",
       "      <td>NaN</td>\n",
       "      <td>NaN</td>\n",
       "    </tr>\n",
       "    <tr>\n",
       "      <th>23271</th>\n",
       "      <td>torzsmáglyaégetés</td>\n",
       "      <td>torzs</td>\n",
       "      <td>máglya</td>\n",
       "      <td>égetés</td>\n",
       "      <td>NaN</td>\n",
       "      <td>NaN</td>\n",
       "    </tr>\n",
       "  </tbody>\n",
       "</table>\n",
       "</div>"
      ],
      "text/plain": [
       "                     corpus  chunk1  chunk2   chunk3 chunk4 chunk5\n",
       "1853529    ostromlöveganyag  ostrom   löveg    anyag    NaN    NaN\n",
       "11817     élelmiszerellátás  élelmi  szerel    látás    NaN    NaN\n",
       "1128155     szentjánosbogár   szent   jános    bogár    NaN    NaN\n",
       "1670080  kulcshoronyvezeték   kulcs  horony  vezeték    NaN    NaN\n",
       "23271     torzsmáglyaégetés   torzs  máglya   égetés    NaN    NaN"
      ]
     },
     "execution_count": 34,
     "metadata": {},
     "output_type": "execute_result"
    }
   ],
   "source": [
    "valid_list = []\n",
    "for num_parts in range(3,6):\n",
    "    df_exp = create_all_combinations(df, num_parts)\n",
    "    df_valid = select_valid_elements(df, df_exp, num_parts)\n",
    "    valid_list.append(df_valid)\n",
    "\n",
    "\n",
    "df_all_valid = pd.concat(valid_list)\n",
    "df_all_valid.head()\n"
   ]
  },
  {
   "cell_type": "code",
   "execution_count": 35,
   "id": "b4e3b876",
   "metadata": {},
   "outputs": [],
   "source": [
    "df_all_valid.to_csv(f'all_filtered_word_comibations.csv', index=False)"
   ]
  },
  {
   "cell_type": "code",
   "execution_count": 31,
   "id": "ee043a79",
   "metadata": {},
   "outputs": [
    {
     "data": {
      "text/plain": [
       "17398"
      ]
     },
     "execution_count": 31,
     "metadata": {},
     "output_type": "execute_result"
    }
   ],
   "source": [
    "len(df_all_valid)"
   ]
  },
  {
   "cell_type": "code",
   "execution_count": null,
   "id": "9c83acf7",
   "metadata": {},
   "outputs": [
    {
     "ename": "NameError",
     "evalue": "name 'df_exp' is not defined",
     "output_type": "error",
     "traceback": [
      "\u001b[31m---------------------------------------------------------------------------\u001b[39m",
      "\u001b[31mNameError\u001b[39m                                 Traceback (most recent call last)",
      "\u001b[36mCell\u001b[39m\u001b[36m \u001b[39m\u001b[32mIn[1]\u001b[39m\u001b[32m, line 1\u001b[39m\n\u001b[32m----> \u001b[39m\u001b[32m1\u001b[39m \u001b[43mdf_exp\u001b[49m\n",
      "\u001b[31mNameError\u001b[39m: name 'df_exp' is not defined"
     ]
    }
   ],
   "source": []
  },
  {
   "cell_type": "code",
   "execution_count": null,
   "id": "9771f1e7",
   "metadata": {},
   "outputs": [],
   "source": []
  }
 ],
 "metadata": {
  "kernelspec": {
   "display_name": ".venv",
   "language": "python",
   "name": "python3"
  },
  "language_info": {
   "codemirror_mode": {
    "name": "ipython",
    "version": 3
   },
   "file_extension": ".py",
   "mimetype": "text/x-python",
   "name": "python",
   "nbconvert_exporter": "python",
   "pygments_lexer": "ipython3",
   "version": "3.13.5"
  }
 },
 "nbformat": 4,
 "nbformat_minor": 5
}
