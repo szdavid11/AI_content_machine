{
 "cells": [
  {
   "cell_type": "code",
   "execution_count": 25,
   "id": "0be1d172",
   "metadata": {},
   "outputs": [],
   "source": [
    "import pandas as pd\n",
    "import seaborn as sns"
   ]
  },
  {
   "cell_type": "code",
   "execution_count": 59,
   "id": "85ab7684",
   "metadata": {},
   "outputs": [],
   "source": [
    "df = pd.read_xml('huwn.xml')"
   ]
  },
  {
   "cell_type": "code",
   "execution_count": 60,
   "id": "85446704",
   "metadata": {},
   "outputs": [
    {
     "data": {
      "text/plain": [
       "42288"
      ]
     },
     "execution_count": 60,
     "metadata": {},
     "output_type": "execute_result"
    }
   ],
   "source": [
    "len(df)"
   ]
  },
  {
   "cell_type": "code",
   "execution_count": 61,
   "id": "171b3dfa",
   "metadata": {},
   "outputs": [
    {
     "data": {
      "text/html": [
       "<div>\n",
       "<style scoped>\n",
       "    .dataframe tbody tr th:only-of-type {\n",
       "        vertical-align: middle;\n",
       "    }\n",
       "\n",
       "    .dataframe tbody tr th {\n",
       "        vertical-align: top;\n",
       "    }\n",
       "\n",
       "    .dataframe thead th {\n",
       "        text-align: right;\n",
       "    }\n",
       "</style>\n",
       "<table border=\"1\" class=\"dataframe\">\n",
       "  <thead>\n",
       "    <tr style=\"text-align: right;\">\n",
       "      <th></th>\n",
       "      <th>ID</th>\n",
       "      <th>ID3</th>\n",
       "      <th>POS</th>\n",
       "      <th>SYNONYM</th>\n",
       "      <th>ILR</th>\n",
       "      <th>DEF</th>\n",
       "      <th>BCS</th>\n",
       "      <th>USAGE</th>\n",
       "      <th>STAMP</th>\n",
       "      <th>DOMAIN</th>\n",
       "      <th>SUMO</th>\n",
       "      <th>EKSZ</th>\n",
       "      <th>NL</th>\n",
       "      <th>TNL</th>\n",
       "      <th>SNOTE</th>\n",
       "      <th>ELR</th>\n",
       "      <th>ELR3</th>\n",
       "      <th>VFRAME</th>\n",
       "    </tr>\n",
       "  </thead>\n",
       "  <tbody>\n",
       "    <tr>\n",
       "      <th>0</th>\n",
       "      <td>ENG20-00001740-n</td>\n",
       "      <td>ENG30-00001740-n</td>\n",
       "      <td>n</td>\n",
       "      <td>NaN</td>\n",
       "      <td>ENG20-08843058-n</td>\n",
       "      <td>Amit érzékelés, tudás vagy következtetés útján...</td>\n",
       "      <td>2</td>\n",
       "      <td>A fizikai test az entitás önmagáról alkotott i...</td>\n",
       "      <td>almasi 2008/03/06</td>\n",
       "      <td>factotum</td>\n",
       "      <td>Physical</td>\n",
       "      <td>None</td>\n",
       "      <td>None</td>\n",
       "      <td>None</td>\n",
       "      <td>None</td>\n",
       "      <td>None</td>\n",
       "      <td>None</td>\n",
       "      <td>None</td>\n",
       "    </tr>\n",
       "  </tbody>\n",
       "</table>\n",
       "</div>"
      ],
      "text/plain": [
       "                 ID               ID3 POS  SYNONYM               ILR  \\\n",
       "0  ENG20-00001740-n  ENG30-00001740-n   n      NaN  ENG20-08843058-n   \n",
       "\n",
       "                                                 DEF BCS  \\\n",
       "0  Amit érzékelés, tudás vagy következtetés útján...   2   \n",
       "\n",
       "                                               USAGE              STAMP  \\\n",
       "0  A fizikai test az entitás önmagáról alkotott i...  almasi 2008/03/06   \n",
       "\n",
       "     DOMAIN      SUMO  EKSZ    NL   TNL SNOTE   ELR  ELR3 VFRAME  \n",
       "0  factotum  Physical  None  None  None  None  None  None   None  "
      ]
     },
     "execution_count": 61,
     "metadata": {},
     "output_type": "execute_result"
    }
   ],
   "source": [
    "df.head(1)"
   ]
  },
  {
   "cell_type": "code",
   "execution_count": 62,
   "id": "75a40504",
   "metadata": {},
   "outputs": [
    {
     "data": {
      "text/plain": [
       "{'ID': 'HuWN-925170428-b',\n",
       " 'ID3': None,\n",
       " 'POS': 'b',\n",
       " 'SYNONYM': nan,\n",
       " 'ILR': None,\n",
       " 'DEF': 'Jókora mértékben.',\n",
       " 'BCS': None,\n",
       " 'USAGE': 'Alaposan megruházták.',\n",
       " 'STAMP': 'acer 2007/01/31',\n",
       " 'DOMAIN': None,\n",
       " 'SUMO': None,\n",
       " 'EKSZ': 'alapos_1_4',\n",
       " 'NL': None,\n",
       " 'TNL': None,\n",
       " 'SNOTE': None,\n",
       " 'ELR': 'ENG20-00058472-b',\n",
       " 'ELR3': 'ENG30-00057388-b',\n",
       " 'VFRAME': None}"
      ]
     },
     "execution_count": 62,
     "metadata": {},
     "output_type": "execute_result"
    }
   ],
   "source": [
    "df.iloc[-1].to_dict()"
   ]
  },
  {
   "cell_type": "code",
   "execution_count": 74,
   "id": "cb726640",
   "metadata": {},
   "outputs": [],
   "source": [
    "df['WORD'] = df['EKSZ'].str.replace('_.*', '', regex=True)"
   ]
  },
  {
   "cell_type": "code",
   "execution_count": 77,
   "id": "5ddd82bf",
   "metadata": {},
   "outputs": [],
   "source": [
    "df['COUNT_OF_MEANING'] = df['EKSZ'].str.extract(r'^[^_]*_(\\d+)', expand=False).fillna('0').astype(int)"
   ]
  },
  {
   "cell_type": "code",
   "execution_count": 83,
   "id": "799b2437",
   "metadata": {},
   "outputs": [],
   "source": [
    "multi_meaning_words = df[df.COUNT_OF_MEANING > 1]['WORD'].unique()"
   ]
  },
  {
   "cell_type": "code",
   "execution_count": 84,
   "id": "7a79e79f",
   "metadata": {},
   "outputs": [
    {
     "data": {
      "text/plain": [
       "array(['sejt', 'tér', 'járat', 'hajt', 'hossz', 'összehajt', 'krokett',\n",
       "       'dominó', 'szóló', 'ellát', 'bolt', 'hal', 'fogoly', 'cankó',\n",
       "       'bokszer', 'spicc', 'here', 'báb', 'sül', 'szarvas', 'hall', 'ár',\n",
       "       'tuba', 'háló', 'seprű', 'él', 'boksz', 'szél', 'kirakat',\n",
       "       'töltet', 'dob', 'bejárat', 'kijárat', 'csap', 'tűz', 'vár',\n",
       "       'filé', 'sír', 'terem', 'fej', 'otthon', 'felhajtás', 'zár',\n",
       "       'akna', 'szeg', 'ír', 'hegy', 'vonat', 'ring', 'csavar', 'varrat',\n",
       "       'ing', 'szán', 'ujj', 'csík', 'csapás', 'viola', 'fal', 'vágat',\n",
       "       'méret', 'fog', 'szív', 'ér', 'méh', 'áll', 'ég', 'tudat', 'zavar',\n",
       "       'adat', 'nyom', 'levelezés', 'görög', 'szignál', 'trópus',\n",
       "       'nyugta', 'tus', 'sertés', 'paradicsom', 'kivi', 'író', 'főzet',\n",
       "       'köz', 'ezred', 'század', 'fél', 'diéta', 'rengeteg', 'dada',\n",
       "       'fok', 'parti', 'biztos', 'tizedes', 'őr', 'hív', 'örökös',\n",
       "       'homokos', 'kezes', 'mandarin', 'boltos', 'csempész', 'nő', 'fagy',\n",
       "       'hajtás', 'vagyon', 'adó', 'tőke', 'öl', 'frank', 'líra', 'lábas',\n",
       "       'dél', 'szög', 'vájat', 'titán', 'hét', 'lejárat', 'búcsú',\n",
       "       'passzol', 'behajt', 'mer', 'költ', 'megér', 'kifejez', 'képes',\n",
       "       'elszánt', 'matt', 'egy', 'sebes', 'derék', 'fő', 'ősz', 'volt',\n",
       "       'hegyes', 'megjelent', 'roppant', 'ó', 'nem', 'elöl', 'korán',\n",
       "       'elég', 'ki', 'rekedt', 'bárhol', 'haza'], dtype=object)"
      ]
     },
     "execution_count": 84,
     "metadata": {},
     "output_type": "execute_result"
    }
   ],
   "source": [
    "multi_meaning_words"
   ]
  },
  {
   "cell_type": "code",
   "execution_count": 58,
   "id": "6a61e2c5",
   "metadata": {},
   "outputs": [
    {
     "data": {
      "text/html": [
       "<div>\n",
       "<style scoped>\n",
       "    .dataframe tbody tr th:only-of-type {\n",
       "        vertical-align: middle;\n",
       "    }\n",
       "\n",
       "    .dataframe tbody tr th {\n",
       "        vertical-align: top;\n",
       "    }\n",
       "\n",
       "    .dataframe thead th {\n",
       "        text-align: right;\n",
       "    }\n",
       "</style>\n",
       "<table border=\"1\" class=\"dataframe\">\n",
       "  <thead>\n",
       "    <tr style=\"text-align: right;\">\n",
       "      <th></th>\n",
       "      <th>ID</th>\n",
       "      <th>ID3</th>\n",
       "      <th>POS</th>\n",
       "      <th>SYNONYM</th>\n",
       "      <th>ILR</th>\n",
       "      <th>DEF</th>\n",
       "      <th>BCS</th>\n",
       "      <th>USAGE</th>\n",
       "      <th>STAMP</th>\n",
       "      <th>DOMAIN</th>\n",
       "      <th>SUMO</th>\n",
       "      <th>EKSZ</th>\n",
       "      <th>NL</th>\n",
       "      <th>TNL</th>\n",
       "      <th>SNOTE</th>\n",
       "      <th>ELR</th>\n",
       "      <th>ELR3</th>\n",
       "      <th>VFRAME</th>\n",
       "      <th>WORD</th>\n",
       "    </tr>\n",
       "  </thead>\n",
       "  <tbody>\n",
       "    <tr>\n",
       "      <th>1407</th>\n",
       "      <td>ENG20-01002831-n</td>\n",
       "      <td>ENG30-01063939-n</td>\n",
       "      <td>n</td>\n",
       "      <td>NaN</td>\n",
       "      <td>ENG20-01001511-n</td>\n",
       "      <td>Az a cselekvés, hogy valaki nem megy el, nem c...</td>\n",
       "      <td>None</td>\n",
       "      <td>None</td>\n",
       "      <td>szk 2006/08/22</td>\n",
       "      <td>factotum</td>\n",
       "      <td>ComplementFn</td>\n",
       "      <td>vár_1_2</td>\n",
       "      <td>None</td>\n",
       "      <td>None</td>\n",
       "      <td>None</td>\n",
       "      <td>None</td>\n",
       "      <td>None</td>\n",
       "      <td>None</td>\n",
       "      <td>vár</td>\n",
       "    </tr>\n",
       "    <tr>\n",
       "      <th>3914</th>\n",
       "      <td>ENG20-03262488-n</td>\n",
       "      <td>ENG30-03386011-n</td>\n",
       "      <td>n</td>\n",
       "      <td>NaN</td>\n",
       "      <td>ENG20-03056567-n</td>\n",
       "      <td>Zárt, tűzfegyverekkel fölszerelt, védelmi épít...</td>\n",
       "      <td>3</td>\n",
       "      <td>Az erőd ágyúi uralták a völgyet.</td>\n",
       "      <td>Rendszergazda 2007/08/14</td>\n",
       "      <td>military</td>\n",
       "      <td>StationaryArtifact</td>\n",
       "      <td>vár_2_1</td>\n",
       "      <td>None</td>\n",
       "      <td>None</td>\n",
       "      <td>None</td>\n",
       "      <td>None</td>\n",
       "      <td>None</td>\n",
       "      <td>None</td>\n",
       "      <td>vár</td>\n",
       "    </tr>\n",
       "    <tr>\n",
       "      <th>33600</th>\n",
       "      <td>ENG20-00057490-v</td>\n",
       "      <td>ENG30-00059376-v</td>\n",
       "      <td>v</td>\n",
       "      <td>NaN</td>\n",
       "      <td>ENG20-00696172-v</td>\n",
       "      <td>Gyermeke fog születni, várandós.</td>\n",
       "      <td>3</td>\n",
       "      <td>Csak a második hónapban jöttem rá, hogy babát ...</td>\n",
       "      <td>Dávid 2007/08/10</td>\n",
       "      <td>factotum</td>\n",
       "      <td>SexualReproduction</td>\n",
       "      <td>vár_1_1</td>\n",
       "      <td>None</td>\n",
       "      <td>None</td>\n",
       "      <td>ugyanaz, mint az ENG20-00057151-v synset - töb...</td>\n",
       "      <td>None</td>\n",
       "      <td>None</td>\n",
       "      <td>VP=babát+vár:0605221124</td>\n",
       "      <td>vár</td>\n",
       "    </tr>\n",
       "  </tbody>\n",
       "</table>\n",
       "</div>"
      ],
      "text/plain": [
       "                     ID               ID3 POS  SYNONYM               ILR  \\\n",
       "1407   ENG20-01002831-n  ENG30-01063939-n   n      NaN  ENG20-01001511-n   \n",
       "3914   ENG20-03262488-n  ENG30-03386011-n   n      NaN  ENG20-03056567-n   \n",
       "33600  ENG20-00057490-v  ENG30-00059376-v   v      NaN  ENG20-00696172-v   \n",
       "\n",
       "                                                     DEF   BCS  \\\n",
       "1407   Az a cselekvés, hogy valaki nem megy el, nem c...  None   \n",
       "3914   Zárt, tűzfegyverekkel fölszerelt, védelmi épít...     3   \n",
       "33600                   Gyermeke fog születni, várandós.     3   \n",
       "\n",
       "                                                   USAGE  \\\n",
       "1407                                                None   \n",
       "3914                    Az erőd ágyúi uralták a völgyet.   \n",
       "33600  Csak a második hónapban jöttem rá, hogy babát ...   \n",
       "\n",
       "                          STAMP    DOMAIN                SUMO     EKSZ    NL  \\\n",
       "1407             szk 2006/08/22  factotum        ComplementFn  vár_1_2  None   \n",
       "3914   Rendszergazda 2007/08/14  military  StationaryArtifact  vár_2_1  None   \n",
       "33600          Dávid 2007/08/10  factotum  SexualReproduction  vár_1_1  None   \n",
       "\n",
       "        TNL                                              SNOTE   ELR  ELR3  \\\n",
       "1407   None                                               None  None  None   \n",
       "3914   None                                               None  None  None   \n",
       "33600  None  ugyanaz, mint az ENG20-00057151-v synset - töb...  None  None   \n",
       "\n",
       "                        VFRAME WORD  \n",
       "1407                      None  vár  \n",
       "3914                      None  vár  \n",
       "33600  VP=babát+vár:0605221124  vár  "
      ]
     },
     "execution_count": 58,
     "metadata": {},
     "output_type": "execute_result"
    }
   ],
   "source": [
    "df[df.WORD == 'vár']"
   ]
  },
  {
   "cell_type": "code",
   "execution_count": 57,
   "id": "8df99e15",
   "metadata": {},
   "outputs": [
    {
     "data": {
      "text/plain": [
       "Index(['ID', 'ID3', 'POS', 'SYNONYM', 'ILR', 'DEF', 'BCS', 'USAGE', 'STAMP',\n",
       "       'DOMAIN', 'SUMO', 'EKSZ', 'NL', 'TNL', 'SNOTE', 'ELR', 'ELR3', 'VFRAME',\n",
       "       'WORD'],\n",
       "      dtype='object')"
      ]
     },
     "execution_count": 57,
     "metadata": {},
     "output_type": "execute_result"
    }
   ],
   "source": [
    "df.columns"
   ]
  },
  {
   "cell_type": "code",
   "execution_count": null,
   "id": "5f426fc8",
   "metadata": {},
   "outputs": [],
   "source": []
  }
 ],
 "metadata": {
  "kernelspec": {
   "display_name": ".venv",
   "language": "python",
   "name": "python3"
  },
  "language_info": {
   "codemirror_mode": {
    "name": "ipython",
    "version": 3
   },
   "file_extension": ".py",
   "mimetype": "text/x-python",
   "name": "python",
   "nbconvert_exporter": "python",
   "pygments_lexer": "ipython3",
   "version": "3.13.5"
  }
 },
 "nbformat": 4,
 "nbformat_minor": 5
}
