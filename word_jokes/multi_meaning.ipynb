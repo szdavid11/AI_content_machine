{
 "cells": [
  {
   "cell_type": "code",
   "execution_count": 1,
   "id": "0be1d172",
   "metadata": {},
   "outputs": [],
   "source": [
    "import pandas as pd\n",
    "import seaborn as sns"
   ]
  },
  {
   "cell_type": "code",
   "execution_count": 3,
   "id": "85ab7684",
   "metadata": {},
   "outputs": [],
   "source": [
    "df = pd.read_xml('huwn.xml')"
   ]
  },
  {
   "cell_type": "code",
   "execution_count": 4,
   "id": "85446704",
   "metadata": {},
   "outputs": [
    {
     "data": {
      "text/plain": [
       "42288"
      ]
     },
     "execution_count": 4,
     "metadata": {},
     "output_type": "execute_result"
    }
   ],
   "source": [
    "len(df)"
   ]
  },
  {
   "cell_type": "code",
   "execution_count": 5,
   "id": "171b3dfa",
   "metadata": {},
   "outputs": [
    {
     "data": {
      "text/html": [
       "<div>\n",
       "<style scoped>\n",
       "    .dataframe tbody tr th:only-of-type {\n",
       "        vertical-align: middle;\n",
       "    }\n",
       "\n",
       "    .dataframe tbody tr th {\n",
       "        vertical-align: top;\n",
       "    }\n",
       "\n",
       "    .dataframe thead th {\n",
       "        text-align: right;\n",
       "    }\n",
       "</style>\n",
       "<table border=\"1\" class=\"dataframe\">\n",
       "  <thead>\n",
       "    <tr style=\"text-align: right;\">\n",
       "      <th></th>\n",
       "      <th>ID</th>\n",
       "      <th>ID3</th>\n",
       "      <th>POS</th>\n",
       "      <th>SYNONYM</th>\n",
       "      <th>ILR</th>\n",
       "      <th>DEF</th>\n",
       "      <th>BCS</th>\n",
       "      <th>USAGE</th>\n",
       "      <th>STAMP</th>\n",
       "      <th>DOMAIN</th>\n",
       "      <th>SUMO</th>\n",
       "      <th>EKSZ</th>\n",
       "      <th>NL</th>\n",
       "      <th>TNL</th>\n",
       "      <th>SNOTE</th>\n",
       "      <th>ELR</th>\n",
       "      <th>ELR3</th>\n",
       "      <th>VFRAME</th>\n",
       "    </tr>\n",
       "  </thead>\n",
       "  <tbody>\n",
       "    <tr>\n",
       "      <th>0</th>\n",
       "      <td>ENG20-00001740-n</td>\n",
       "      <td>ENG30-00001740-n</td>\n",
       "      <td>n</td>\n",
       "      <td>NaN</td>\n",
       "      <td>ENG20-08843058-n</td>\n",
       "      <td>Amit érzékelés, tudás vagy következtetés útján...</td>\n",
       "      <td>2</td>\n",
       "      <td>A fizikai test az entitás önmagáról alkotott i...</td>\n",
       "      <td>almasi 2008/03/06</td>\n",
       "      <td>factotum</td>\n",
       "      <td>Physical</td>\n",
       "      <td>None</td>\n",
       "      <td>None</td>\n",
       "      <td>None</td>\n",
       "      <td>None</td>\n",
       "      <td>None</td>\n",
       "      <td>None</td>\n",
       "      <td>None</td>\n",
       "    </tr>\n",
       "  </tbody>\n",
       "</table>\n",
       "</div>"
      ],
      "text/plain": [
       "                 ID               ID3 POS  SYNONYM               ILR  \\\n",
       "0  ENG20-00001740-n  ENG30-00001740-n   n      NaN  ENG20-08843058-n   \n",
       "\n",
       "                                                 DEF BCS  \\\n",
       "0  Amit érzékelés, tudás vagy következtetés útján...   2   \n",
       "\n",
       "                                               USAGE              STAMP  \\\n",
       "0  A fizikai test az entitás önmagáról alkotott i...  almasi 2008/03/06   \n",
       "\n",
       "     DOMAIN      SUMO  EKSZ    NL   TNL SNOTE   ELR  ELR3 VFRAME  \n",
       "0  factotum  Physical  None  None  None  None  None  None   None  "
      ]
     },
     "execution_count": 5,
     "metadata": {},
     "output_type": "execute_result"
    }
   ],
   "source": [
    "df.head(1)"
   ]
  },
  {
   "cell_type": "code",
   "execution_count": 6,
   "id": "75a40504",
   "metadata": {},
   "outputs": [
    {
     "data": {
      "text/plain": [
       "{'ID': 'HuWN-925170428-b',\n",
       " 'ID3': None,\n",
       " 'POS': 'b',\n",
       " 'SYNONYM': nan,\n",
       " 'ILR': None,\n",
       " 'DEF': 'Jókora mértékben.',\n",
       " 'BCS': None,\n",
       " 'USAGE': 'Alaposan megruházták.',\n",
       " 'STAMP': 'acer 2007/01/31',\n",
       " 'DOMAIN': None,\n",
       " 'SUMO': None,\n",
       " 'EKSZ': 'alapos_1_4',\n",
       " 'NL': None,\n",
       " 'TNL': None,\n",
       " 'SNOTE': None,\n",
       " 'ELR': 'ENG20-00058472-b',\n",
       " 'ELR3': 'ENG30-00057388-b',\n",
       " 'VFRAME': None}"
      ]
     },
     "execution_count": 6,
     "metadata": {},
     "output_type": "execute_result"
    }
   ],
   "source": [
    "df.iloc[-1].to_dict()"
   ]
  },
  {
   "cell_type": "code",
   "execution_count": 7,
   "id": "cb726640",
   "metadata": {},
   "outputs": [],
   "source": [
    "df['WORD'] = df['EKSZ'].str.replace('_.*', '', regex=True)"
   ]
  },
  {
   "cell_type": "code",
   "execution_count": 8,
   "id": "5ddd82bf",
   "metadata": {},
   "outputs": [],
   "source": [
    "df['COUNT_OF_MEANING'] = df['EKSZ'].str.extract(r'^[^_]*_(\\d+)', expand=False).fillna('0').astype(int)"
   ]
  },
  {
   "cell_type": "code",
   "execution_count": 9,
   "id": "799b2437",
   "metadata": {},
   "outputs": [],
   "source": [
    "multi_meaning_words = df[df.COUNT_OF_MEANING > 1]['WORD'].unique()"
   ]
  },
  {
   "cell_type": "code",
   "execution_count": 15,
   "id": "7a79e79f",
   "metadata": {},
   "outputs": [],
   "source": [
    "multi2 = df['WORD'].value_counts()\n",
    "multi2 = multi2[multi2 > 1]"
   ]
  },
  {
   "cell_type": "code",
   "execution_count": 18,
   "id": "6a61e2c5",
   "metadata": {},
   "outputs": [
    {
     "data": {
      "text/plain": [
       "144"
      ]
     },
     "execution_count": 18,
     "metadata": {},
     "output_type": "execute_result"
    }
   ],
   "source": [
    "len(set(multi_meaning_words) - set(multi2))"
   ]
  },
  {
   "cell_type": "code",
   "execution_count": 20,
   "id": "8df99e15",
   "metadata": {},
   "outputs": [
    {
     "data": {
      "text/plain": [
       "array(['sejt', 'tér', 'járat', 'hajt', 'hossz', 'összehajt', 'krokett',\n",
       "       'dominó', 'szóló', 'ellát', 'bolt', 'hal', 'fogoly', 'cankó',\n",
       "       'bokszer', 'spicc', 'here', 'báb', 'sül', 'szarvas', 'hall', 'ár',\n",
       "       'tuba', 'háló', 'seprű', 'él', 'boksz', 'szél', 'kirakat',\n",
       "       'töltet', 'dob', 'bejárat', 'kijárat', 'csap', 'tűz', 'vár',\n",
       "       'filé', 'sír', 'terem', 'fej', 'otthon', 'felhajtás', 'zár',\n",
       "       'akna', 'szeg', 'ír', 'hegy', 'vonat', 'ring', 'csavar', 'varrat',\n",
       "       'ing', 'szán', 'ujj', 'csík', 'csapás', 'viola', 'fal', 'vágat',\n",
       "       'méret', 'fog', 'szív', 'ér', 'méh', 'áll', 'ég', 'tudat', 'zavar',\n",
       "       'adat', 'nyom', 'levelezés', 'görög', 'szignál', 'trópus',\n",
       "       'nyugta', 'tus', 'sertés', 'paradicsom', 'kivi', 'író', 'főzet',\n",
       "       'köz', 'ezred', 'század', 'fél', 'diéta', 'rengeteg', 'dada',\n",
       "       'fok', 'parti', 'biztos', 'tizedes', 'őr', 'hív', 'örökös',\n",
       "       'homokos', 'kezes', 'mandarin', 'boltos', 'csempész', 'nő', 'fagy',\n",
       "       'hajtás', 'vagyon', 'adó', 'tőke', 'öl', 'frank', 'líra', 'lábas',\n",
       "       'dél', 'szög', 'vájat', 'titán', 'hét', 'lejárat', 'búcsú',\n",
       "       'passzol', 'behajt', 'mer', 'költ', 'megér', 'kifejez', 'képes',\n",
       "       'elszánt', 'matt', 'egy', 'sebes', 'derék', 'fő', 'ősz', 'volt',\n",
       "       'hegyes', 'megjelent', 'roppant', 'ó', 'nem', 'elöl', 'korán',\n",
       "       'elég', 'ki', 'rekedt', 'bárhol', 'haza'], dtype=object)"
      ]
     },
     "execution_count": 20,
     "metadata": {},
     "output_type": "execute_result"
    }
   ],
   "source": [
    "multi_meaning_words"
   ]
  },
  {
   "cell_type": "code",
   "execution_count": null,
   "id": "5f426fc8",
   "metadata": {},
   "outputs": [],
   "source": []
  },
  {
   "cell_type": "code",
   "execution_count": null,
   "id": "632ff991",
   "metadata": {},
   "outputs": [],
   "source": []
  }
 ],
 "metadata": {
  "kernelspec": {
   "display_name": ".venv",
   "language": "python",
   "name": "python3"
  },
  "language_info": {
   "codemirror_mode": {
    "name": "ipython",
    "version": 3
   },
   "file_extension": ".py",
   "mimetype": "text/x-python",
   "name": "python",
   "nbconvert_exporter": "python",
   "pygments_lexer": "ipython3",
   "version": "3.13.5"
  }
 },
 "nbformat": 4,
 "nbformat_minor": 5
}
